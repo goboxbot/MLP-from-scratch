{
  "cells": [
    {
      "cell_type": "code",
      "execution_count": 1,
      "metadata": {
        "id": "TXVPuERKUkfs"
      },
      "outputs": [],
      "source": [
        "import numpy as np"
      ]
    },
    {
      "cell_type": "code",
      "execution_count": null,
      "metadata": {
        "id": "vApUaXfrUqeC"
      },
      "outputs": [],
      "source": [
        "class Dense:\n",
        "  def __init__(self, num_inputs, num_outputs):\n",
        "    ni = num_inputs\n",
        "    no = num_outputs\n",
        "    self.w = np.sqrt(2/ni)*np.random.randn(ni, no)\n",
        "    self.b = np.zeros(no)\n",
        "    self.x = None\n",
        "    self.dw = None\n",
        "    self.db = None\n",
        "\n",
        "  def forward(self, x):\n",
        "    self.x = x\n",
        "    out = np.dot(x, self.w) + self.b\n",
        "    return out\n",
        "\n",
        "  def backward(self, dL):\n",
        "    dx = np.dot(dL, self.w.T)\n",
        "    self.dw = np.dot(self.x.T, dL)\n",
        "    self.db = np.sum(dL, axis=0)\n",
        "    return dx\n",
        "\n",
        "  def update(self, lr=0.001):\n",
        "    self.w -= lr*self.dw\n",
        "    self.b -= lr*self.db"
      ]
    },
    {
      "cell_type": "code",
      "execution_count": null,
      "metadata": {
        "id": "cnHjF-tmaWJd"
      },
      "outputs": [],
      "source": [
        "class Relu:\n",
        "  def __init__(self):\n",
        "    self.mask = None\n",
        "\n",
        "  def forward(self, x):\n",
        "    self.mask = (x <= 0)\n",
        "    out = x.copy()\n",
        "    out[self.mask] = 0\n",
        "    return out\n",
        "\n",
        "  def backward(self, dL):\n",
        "    dL[self.mask] = 0\n",
        "    return dL\n",
        "\n",
        "  def update(self, lr = 0.001):\n",
        "    pass"
      ]
    },
    {
      "cell_type": "code",
      "execution_count": null,
      "metadata": {
        "id": "xNutFRQHa5zi"
      },
      "outputs": [],
      "source": [
        "class Softmax:\n",
        "  def __init__(self):\n",
        "    pass\n",
        "\n",
        "  def forward(self, x):\n",
        "    if x.ndim == 1:\n",
        "      c = np.max(x)\n",
        "      exp_x = np.exp(x-c)\n",
        "      sum_ = np.sum(exp_x)\n",
        "    elif x.ndim == 2:\n",
        "      c = np.max(x,axis=1).reshape(-1, 1)\n",
        "      exp_x = np.exp(x-c)\n",
        "      sum_ = np.sum(exp_x, axis=1).reshape(-1, 1)\n",
        "\n",
        "    y = exp_x / sum_\n",
        "\n",
        "    return y\n",
        "\n",
        "  def backward(self, dL):\n",
        "    pass\n",
        "\n",
        "  def update(self, lr = 0.001):\n",
        "    pass"
      ]
    },
    {
      "cell_type": "code",
      "execution_count": null,
      "metadata": {
        "id": "S5wbSIlXUeZK"
      },
      "outputs": [],
      "source": [
        "def cross_entropy(y, t):\n",
        "    epsilon = 1e-7\n",
        "    batch_size = y.shape[0]\n",
        "    y = np.clip(y, epsilon, 1 - epsilon) \n",
        "    loss = -np.sum(t * np.log(y)) / batch_size\n",
        "    return loss"
      ]
    },
    {
      "cell_type": "code",
      "execution_count": null,
      "metadata": {
        "id": "DtYTyzmAUxVf"
      },
      "outputs": [],
      "source": [
        "class SoftmaxWithLoss:\n",
        "  def __init__(self):\n",
        "    self.y = None\n",
        "    self.t = None\n",
        "\n",
        "  def forward(self, y, t):\n",
        "    if y.ndim != t.ndim:\n",
        "      self.t = np.eye(y.shape[1])[t]\n",
        "    else:\n",
        "      self.t =t\n",
        "\n",
        "    self.y = y\n",
        "    loss = cross_entropy(self.y, self.t)\n",
        "    return loss\n",
        "\n",
        "  def backward(self):\n",
        "    batch_size = self.y.shape[0]\n",
        "    dx = (self.y - self.t)/batch_size\n",
        "    return dx"
      ]
    },
    {
      "cell_type": "code",
      "execution_count": null,
      "metadata": {
        "id": "9TBFCNQGVXml"
      },
      "outputs": [],
      "source": [
        "class ANN:\n",
        "  def __init__(self):\n",
        "\n",
        "    self.Layers = []\n",
        "\n",
        "    self.Layers.append(Dense(6, 12))\n",
        "    self.Layers.append(Relu())\n",
        "    self.Layers.append(Dense(12, 8))\n",
        "    self.Layers.append(Relu())\n",
        "    self.Layers.append(Dense(8, 6))\n",
        "    self.Layers.append(Relu())\n",
        "    self.Layers.append(Dense(6, 6))\n",
        "\n",
        "    self.RevLayers = self.Layers.copy()\n",
        "    self.RevLayers.reverse()\n",
        "\n",
        "    self.Loss = SoftmaxWithLoss()\n",
        "\n",
        "  def forward(self, x):\n",
        "    for layer in self.Layers:\n",
        "      x = layer.forward(x)\n",
        "    return x\n",
        "\n",
        "  def predict_max(self, x):\n",
        "    x = self.forward(x)\n",
        "    return np.argmax(x, axis=(x.ndim-1))\n",
        "\n",
        "  def predict_min(self, x):\n",
        "    x = self.forward(x)\n",
        "    return np.argmin(x, axis=(x.ndim-1))\n",
        "\n",
        "  def accuracy_max(self, x, t, batch_size = 10):\n",
        "    b = batch_size\n",
        "    N = x.shape[0]//b\n",
        "    Nt=0\n",
        "    for i in range(N):\n",
        "      xd = x[i*b:(i+1)*b]\n",
        "      td = t[i*b:(i+1)*b]\n",
        "      yd = self.predict_max(xd)\n",
        "\n",
        "      Nt += np.sum(yd==td)\n",
        "    acc = Nt/(N*b)\n",
        "    return acc\n",
        "\n",
        "  def accuracy_min(self, x, t, batch_size = 10):\n",
        "    b = batch_size\n",
        "    N = x.shape[0]//b\n",
        "    Nt=0\n",
        "    for i in range(N):\n",
        "      xd = x[i*b:(i+1)*b]\n",
        "      td = t[i*b:(i+1)*b]\n",
        "      yd = self.predict_min(xd)\n",
        "\n",
        "      Nt += np.sum(yd==td)\n",
        "    acc = Nt/(N*b)\n",
        "    return acc\n",
        "\n",
        "  def loss(self, x, t):\n",
        "    y = self.forward(x)\n",
        "    L = self.Loss.forward(y,t)\n",
        "    return L\n",
        "\n",
        "  def backward(self):\n",
        "    dL = self.Loss.backward()\n",
        "    for layer in self.RevLayers:\n",
        "      dL = layer.backward(dL)\n",
        "    return dL\n",
        "\n",
        "  def update(self, lr=0.01):\n",
        "    for layer in self.RevLayers:\n",
        "      layer.update(lr)\n",
        "\n",
        "  def fit(self, x, t, batch_size = 10, epoch=100, lr=0.01):\n",
        "    b= batch_size\n",
        "    N = x.shape[0]//b\n",
        "    Mask = np.arange(x.shape[0])\n",
        "    for e in range(epoch):\n",
        "      np.random.shuffle(Mask)\n",
        "      for i in range(N):\n",
        "        xd = x[Mask[i*b:(i+1)*b]]\n",
        "        td = t[Mask[i*b:(i+1)*b]]\n",
        "\n",
        "        L = self.loss(xd,td)\n",
        "        dL = self.backward()\n",
        "        self.update(lr = lr)\n",
        "\n",
        "    print(f\"\\r loss value = {L}\", end=\"\")\n"
      ]
    },
    {
      "cell_type": "code",
      "execution_count": null,
      "metadata": {
        "id": "y4C4EOyAWNTp"
      },
      "outputs": [],
      "source": [
        "# 학습 데이터 생성\n",
        "\n",
        "np.random.seed(0) \n",
        "\n",
        "X = np.random.randint(100, size=(1000, 6)) / 100\n",
        "Y_max = np.argmax(X, axis=1)\n",
        "\n",
        "Y_min = np.argmin(X, axis=1)\n"
      ]
    },
    {
      "cell_type": "code",
      "execution_count": null,
      "metadata": {
        "colab": {
          "base_uri": "https://localhost:8080/"
        },
        "collapsed": true,
        "id": "D101eUY6X93_",
        "outputId": "5f17ea22-ed2c-4912-a729-aa7e551c82b0"
      },
      "outputs": [
        {
          "name": "stdout",
          "output_type": "stream",
          "text": [
            " loss value = 0.41363304874892315최대값 위치 정확도: 0.85\n",
            " loss value = 0.8358774322578675최소값 위치 정확도: 0.004\n"
          ]
        }
      ],
      "source": [
        "model_max = ANN()\n",
        "model_max.fit(X, Y_max, batch_size=20, epoch = 1000, lr=0.01)\n",
        "print(\"최대값 위치 정확도:\", model_max.accuracy_max(X, Y_max))\n",
        "\n",
        "model_min = ANN()\n",
        "model_min.fit(X, Y_min, batch_size=20, epoch = 1000, lr=0.01)\n",
        "print(\"최소값 위치 정확도:\", model_min.accuracy_min(X, Y_min))"
      ]
    },
    {
      "cell_type": "code",
      "execution_count": null,
      "metadata": {
        "colab": {
          "base_uri": "https://localhost:8080/"
        },
        "id": "tlqKoUmjYnc3",
        "outputId": "96d46ae1-3dfa-4f3d-f476-227ef7c9ecfc"
      },
      "outputs": [
        {
          "name": "stdout",
          "output_type": "stream",
          "text": [
            "5\n",
            "4\n"
          ]
        }
      ],
      "source": [
        "X_test = np.array([[0.3, 0.5, 0.31, 0.55, 0.01, 0.9]])\n",
        "Y_test_max = np.argmax(X_test)\n",
        "Y_test_min = np.argmin(X_test)\n",
        "\n",
        "print(Y_test_max)\n",
        "print(Y_test_min)"
      ]
    },
    {
      "cell_type": "code",
      "execution_count": null,
      "metadata": {
        "id": "mR5bvdlufmTm"
      },
      "outputs": [],
      "source": []
    }
  ],
  "metadata": {
    "accelerator": "GPU",
    "colab": {
      "gpuType": "T4",
      "provenance": []
    },
    "kernelspec": {
      "display_name": "Python 3",
      "name": "python3"
    },
    "language_info": {
      "name": "python"
    }
  },
  "nbformat": 4,
  "nbformat_minor": 0
}
