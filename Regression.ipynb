{
  "cells": [
    {
      "cell_type": "code",
      "execution_count": null,
      "metadata": {
        "id": "UzgHMtE6_fMv"
      },
      "outputs": [],
      "source": [
        "import numpy as np"
      ]
    },
    {
      "cell_type": "code",
      "execution_count": null,
      "metadata": {
        "id": "iGnoTC8ueFiI"
      },
      "outputs": [],
      "source": [
        "class Dense:\n",
        "\n",
        "  def __init__(self, input_size, output_size):\n",
        "    ni = input_size\n",
        "    no = output_size\n",
        "    self.W = np.sqrt(2/ni)*np.random.randn(ni,no)\n",
        "    self.b = np.zeros(no)\n",
        "    self.x = None\n",
        "    self.dW = None\n",
        "    self.db = None\n",
        "\n",
        "  def forward(self, x):\n",
        "    self.x = x\n",
        "    out = np.dot(x, self.W) + self.b\n",
        "    return out\n",
        "\n",
        "  def backward(self, dL):\n",
        "    dx = np.dot(dL, self.W.T)\n",
        "    self.dW = np.dot(self.x.T, dL)\n",
        "    self.db = np.sum(dL, axis=0)\n",
        "    return dx\n",
        "\n",
        "  def update(self, lr=0.001):\n",
        "    self.W -= lr*self.dW\n",
        "    self.b -= lr*self.db"
      ]
    },
    {
      "cell_type": "code",
      "execution_count": null,
      "metadata": {
        "id": "yTB9_9eWbB0r"
      },
      "outputs": [],
      "source": [
        "class ReLu:\n",
        "  def __init__(self):\n",
        "    self.mask = None\n",
        "\n",
        "  def forward(self, x):\n",
        "    self.mask = (x<=0)\n",
        "    out = x.copy()\n",
        "    out[self.mask] = 0\n",
        "    return out\n",
        "\n",
        "  def backward(self, dL):\n",
        "    dL[self.mask] = 0\n",
        "    return dL\n",
        "\n",
        "  def update(self, lr = 0.001):\n",
        "    pass"
      ]
    },
    {
      "cell_type": "code",
      "execution_count": null,
      "metadata": {
        "id": "8n9m1-pvedUS"
      },
      "outputs": [],
      "source": [
        "class MSE:\n",
        "  def __init__(self):\n",
        "    self.y = None\n",
        "    self.t = None\n",
        "\n",
        "  def forward(self, y, t):\n",
        "    if y.ndim != t.ndim:\n",
        "      t = t.reshape(t.shape[0],1)\n",
        "    self.t = t\n",
        "    self.y = y\n",
        "    mse = (y-t)**2\n",
        "    return np.average(mse)\n",
        "\n",
        "  def backward(self):\n",
        "    batch_size = self.t.shape[0]\n",
        "    dy = (self.y-self.t) / batch_size\n",
        "    return dy"
      ]
    },
    {
      "cell_type": "code",
      "execution_count": null,
      "metadata": {
        "id": "kql9LHrPguWN"
      },
      "outputs": [],
      "source": [
        "class ANN:\n",
        "  def __init__(self):\n",
        "\n",
        "    self.Layers = []\n",
        "\n",
        "    self.Layers.append(Dense(6,12))\n",
        "    self.Layers.append(ReLu())\n",
        "    self.Layers.append(Dense(12,8))\n",
        "    self.Layers.append(ReLu())\n",
        "    self.Layers.append(Dense(8,6))\n",
        "    self.Layers.append(ReLu())\n",
        "    self.Layers.append(Dense(6,2))\n",
        "\n",
        "    self.RevLayers = self.Layers.copy()\n",
        "    self.RevLayers.reverse()\n",
        "\n",
        "    self.Loss = MSE()\n",
        "\n",
        "  def forward(self, x):\n",
        "    for layer in self.Layers:\n",
        "      x = layer.forward(x)\n",
        "    return x\n",
        "\n",
        "  def loss(self, x, t):\n",
        "    y = self.forward(x)\n",
        "    L = self.Loss.forward(y,t)\n",
        "    return L\n",
        "\n",
        "  def backward(self):\n",
        "    dL = self.Loss.backward()\n",
        "    for layer in self.RevLayers:\n",
        "      dL = layer.backward(dL)\n",
        "    return dL\n",
        "\n",
        "  def update(self, lr=0.01):\n",
        "    for layer in self.RevLayers:\n",
        "      layer.update(lr)\n",
        "\n",
        "  def fit(self, x, t, batch_size=10, epoch=100, lr=0.01):\n",
        "    b = batch_size\n",
        "    N = x.shape[0]//b\n",
        "    Mask = np.arange(x.shape[0]) \n",
        "    for e in range(epoch):\n",
        "      np.random.shuffle(Mask)\n",
        "      for i in range(N):\n",
        "        xd = x[Mask[b*i:b*(i+1)]]\n",
        "        td = t[Mask[b*i:b*(i+1)]]\n",
        "        L = self.loss(xd,td)\n",
        "        dL = self.backward()\n",
        "        self.update(lr=lr)\n",
        "      print(f\"\\r loss value = {L}\", end=\"\")"
      ]
    },
    {
      "cell_type": "code",
      "execution_count": null,
      "metadata": {
        "id": "7zRit-NOjMSN"
      },
      "outputs": [],
      "source": [
        "# 학습 데이터 생성\n",
        "\n",
        "np.random.seed(0) \n",
        "\n",
        "X = np.random.randint(100, size=(2000, 6)) / 100\n",
        "\n",
        "\n",
        "Y_max = np.max(X, axis=1).reshape(-1, 1)  \n",
        "Y_min = np.min(X, axis=1).reshape(-1, 1) \n",
        "\n",
        "Y = np.hstack([Y_max, Y_min])            "
      ]
    },
    {
      "cell_type": "code",
      "execution_count": null,
      "metadata": {
        "colab": {
          "base_uri": "https://localhost:8080/"
        },
        "id": "QO5Y_j-UjaBJ",
        "outputId": "621f4125-878d-4be6-81c1-266e77891560"
      },
      "outputs": [
        {
          "name": "stdout",
          "output_type": "stream",
          "text": [
            " loss value = 0.010597441892958226"
          ]
        }
      ],
      "source": [
        "# 모델 학습\n",
        "\n",
        "model = ANN()\n",
        "\n",
        "model.fit(X,Y,batch_size = 20, epoch = 1000, lr = 0.001)"
      ]
    },
    {
      "cell_type": "code",
      "execution_count": null,
      "metadata": {
        "colab": {
          "base_uri": "https://localhost:8080/"
        },
        "id": "e42VPhvYStLK",
        "outputId": "8e28d881-80ce-4d3e-ce09-dd4069482583"
      },
      "outputs": [
        {
          "name": "stdout",
          "output_type": "stream",
          "text": [
            "[[0.80265567 0.10084232]]\n"
          ]
        }
      ],
      "source": [
        "# 모델 테스트\n",
        "\n",
        "X_test = np.array([[0.3, 0.5, 0.31, 0.55, 0.01, 0.9]])\n",
        "Y_test = model.forward(X_test)\n",
        "print(Y_test)"
      ]
    },
    {
      "cell_type": "code",
      "execution_count": null,
      "metadata": {
        "id": "KC8KsBQ6TLHc"
      },
      "outputs": [],
      "source": []
    }
  ],
  "metadata": {
    "colab": {
      "provenance": []
    },
    "kernelspec": {
      "display_name": "Python 3",
      "name": "python3"
    },
    "language_info": {
      "name": "python"
    }
  },
  "nbformat": 4,
  "nbformat_minor": 0
}
